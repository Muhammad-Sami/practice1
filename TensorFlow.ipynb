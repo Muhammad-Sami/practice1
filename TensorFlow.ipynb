{
  "nbformat": 4,
  "nbformat_minor": 0,
  "metadata": {
    "colab": {
      "name": "TensorFlow.ipynb",
      "version": "0.3.2",
      "provenance": []
    },
    "kernelspec": {
      "name": "python3",
      "display_name": "Python 3"
    }
  },
  "cells": [
    {
      "metadata": {
        "id": "VG8bxFuL9rlk",
        "colab_type": "code",
        "colab": {
          "base_uri": "https://localhost:8080/",
          "height": 34
        },
        "outputId": "2cfe74ce-04e5-4093-f1c4-93f90cc37638"
      },
      "cell_type": "code",
      "source": [
        "import tensorflow as tf\n",
        "import numpy as np\n",
        "\n",
        "def the_main_function(a, b):\n",
        "  a = tf.constant(a, tf.float32)\n",
        "  b = tf.constant(b, tf.float32)\n",
        "  \n",
        "  multiply = np.multiply(a, b)\n",
        "  sess = tf.Session()\n",
        "  print(sess.run(multiply))\n",
        "  sess.close()\n",
        "\n",
        "the_main_function([3,2,1], [2, 4, 5])\n",
        "   "
      ],
      "execution_count": 16,
      "outputs": [
        {
          "output_type": "stream",
          "text": [
            "[6. 8. 5.]\n"
          ],
          "name": "stdout"
        }
      ]
    }
  ]
}